{
  "nbformat": 4,
  "nbformat_minor": 0,
  "metadata": {
    "colab": {
      "name": "SIBI_ImageDataGenerator.ipynb",
      "provenance": [],
      "authorship_tag": "ABX9TyMnIFQL4Z/kUsiM8IjN3Fgk",
      "include_colab_link": true
    },
    "kernelspec": {
      "name": "python3",
      "display_name": "Python 3"
    },
    "language_info": {
      "name": "python"
    }
  },
  "cells": [
    {
      "cell_type": "markdown",
      "metadata": {
        "id": "view-in-github",
        "colab_type": "text"
      },
      "source": [
        "<a href=\"https://colab.research.google.com/github/FajarKKP/ML-DL_related_project/blob/main/SIBI_ImageDataGenerator.ipynb\" target=\"_parent\"><img src=\"https://colab.research.google.com/assets/colab-badge.svg\" alt=\"Open In Colab\"/></a>"
      ]
    },
    {
      "cell_type": "code",
      "execution_count": null,
      "metadata": {
        "id": "kobo4tW9bUqi"
      },
      "outputs": [],
      "source": [
        "import tensorflow as tf\n",
        "import keras\n",
        "import matplotlib.pyplot as plt\n",
        "import sklearn\n",
        "import numpy as np\n",
        "\n",
        "from sklearn.metrics import confusion_matrix, classification_report \n",
        "from tensorflow.keras import models\n",
        "from tensorflow.keras import layers\n",
        "from tensorflow.keras.preprocessing.image import ImageDataGenerator\n",
        "# from tensorflow.keras.metrics import FalseNegatives, FalsePositives, TrueNegatives, TruePositives, Precision, Recall, Accuracy, AUC"
      ]
    },
    {
      "cell_type": "code",
      "source": [
        "#Import data from Gdrive\n",
        "data_dir = '/content/drive/MyDrive/Dataset_pakai'\n",
        "\n",
        "# Initialize batch size and image size\n",
        "batch_size = 32\n",
        "image_size = (224,224)\n",
        "cl_names= [\"A\",\"B\",\"C\",\"D\",\"E\",\"F\",\"G\",\"H\",\"I\",\"K\",\n",
        "           \"L\",\"M\",\"N\",\"O\",\"P\",\"Q\",\"R\",\"S\",\"T\",\"U\",\n",
        "           \"V\",\"W\",\"X\",\"Y\",]"
      ],
      "metadata": {
        "id": "OEqShO_sbeRx"
      },
      "execution_count": null,
      "outputs": []
    },
    {
      "cell_type": "code",
      "source": [
        "#For Augmentation\n",
        "train_datagen = ImageDataGenerator(\n",
        "                    rotation_range=10,\n",
        "                    horizontal_flip=True)\n",
        " \n"
      ],
      "metadata": {
        "id": "qOX_OLXgbgBL"
      },
      "execution_count": null,
      "outputs": []
    },
    {
      "cell_type": "code",
      "source": [
        "\n",
        "train_generator = train_datagen.flow_from_directory(\n",
        "        '/content/drive/MyDrive/testing_folder/train', \n",
        "        target_size=image_size, \n",
        "        batch_size=batch_size,\n",
        "        shuffle = True,\n",
        "        class_mode='sparse',\n",
        "        classes=cl_names)\n",
        " \n",
        "val_generator = test_datagen.flow_from_directory(\n",
        "        '/content/drive/MyDrive/testing_folder/val', \n",
        "        target_size=image_size, \n",
        "        batch_size=batch_size,\n",
        "        # shuffle = True,\n",
        "        class_mode='sparse',\n",
        "        classes=cl_names)\n",
        "\n",
        "test_generator = ImageDataGenerator.flow_from_directory(\n",
        "        '/content/drive/MyDrive/testing_folder/test', \n",
        "        target_size=image_size, \n",
        "        batch_size=batch_size,\n",
        "        class_mode='sparse',\n",
        "        classes=cl_names)"
      ],
      "metadata": {
        "id": "c9YaPgugbrMh"
      },
      "execution_count": null,
      "outputs": []
    },
    {
      "cell_type": "code",
      "source": [
        "# Import the EfficientNet model\n",
        "eff_model1 = tf.keras.applications.efficientnet.EfficientNetB0(include_top=False, input_shape=(224,224,3))\n",
        "print(type(eff_model1))\n",
        "eff_model1.summary()"
      ],
      "metadata": {
        "id": "Y6WjWO-VcNEP"
      },
      "execution_count": null,
      "outputs": []
    },
    {
      "cell_type": "code",
      "source": [
        "# Freeze the EfficientNet, then set the dropout rate we will use for our model\n",
        "eff_model1.trainable = False\n",
        "dropout_rate = 0.1 #@param {type:\"slider\", min:0, max:1, step:0.1}"
      ],
      "metadata": {
        "id": "YuyC4bKacPCt"
      },
      "execution_count": null,
      "outputs": []
    },
    {
      "cell_type": "code",
      "source": [
        "# Create a new model, combining the EfficientNet and new output layer with 24 output class\n",
        "\n",
        "model = models.Sequential()\n",
        "model.add(eff_model1)\n",
        "model.add(layers.GlobalMaxPooling2D(name=\"gap\"))\n",
        "# model.add(layers.Flatten(name=\"flatten\"))\n",
        "if dropout_rate > 0:\n",
        "    model.add(layers.Dropout(dropout_rate, name=\"dropout_out\"))\n",
        "\n",
        "model.add(layers.Dense(24, activation=\"softmax\", name=\"fc_out\"))\n",
        "\n",
        "model.summary()"
      ],
      "metadata": {
        "id": "ai4rHSrQcQ6M"
      },
      "execution_count": null,
      "outputs": []
    },
    {
      "cell_type": "code",
      "source": [
        "# Train model\n",
        "epochs = 50\n",
        "\n",
        "class myCallback(tf.keras.callbacks.Callback):\n",
        "  def on_epoch_end(self, epochs, logs={}):\n",
        "    if(logs.get('accuracy')>0.98):\n",
        "      print(\"\\n Good enough, its above 98%\")\n",
        "      self.model.stop_training=True\n",
        "callbacks = myCallback()\n",
        "\n",
        "# early_stopping = keras.callbacks.EarlyStopping(\n",
        "#     monitor=\"accuracy\",\n",
        "#     patience=5,\n",
        "  \n",
        "# )\n",
        "\n",
        "\n",
        "model.compile(\n",
        "    optimizer=tf.keras.optimizers.Adam(1e-3),\n",
        "    loss=\"sparse_categorical_crossentropy\", #\"sparse_categorical_crossentropy\" if label is in integer\n",
        "    metrics=['accuracy'],\n",
        ")\n",
        "final_model = model.fit(train_generator, epochs=epochs, callbacks=[callbacks], validation_data=val_generator)"
      ],
      "metadata": {
        "id": "8i_akoUqcSb3"
      },
      "execution_count": null,
      "outputs": []
    },
    {
      "cell_type": "code",
      "source": [
        "def plot_hist(final_model):\n",
        "    plt.plot(final_model.history[\"accuracy\"])\n",
        "    plt.plot(final_model.history[\"val_accuracy\"])\n",
        "    plt.title(\"model accuracy\")\n",
        "    plt.ylabel(\"accuracy\")\n",
        "    plt.xlabel(\"epoch\")\n",
        "    plt.legend([\"train\", \"validation\"], loc=\"upper left\")\n",
        "    plt.show()\n",
        "\n",
        "\n",
        "plot_hist(final_model)"
      ],
      "metadata": {
        "id": "PsrHa5_fcfPe"
      },
      "execution_count": null,
      "outputs": []
    },
    {
      "cell_type": "code",
      "source": [
        "model.save('/content/drive/MyDrive/Hasil_model_EfficientNet/final_model_generator.h5')\n",
        "model.save('/content/drive/MyDrive/Hasil_model_EfficientNet/final_model_generator.hdf5')"
      ],
      "metadata": {
        "id": "TTN8iRh3chag"
      },
      "execution_count": null,
      "outputs": []
    }
  ]
}