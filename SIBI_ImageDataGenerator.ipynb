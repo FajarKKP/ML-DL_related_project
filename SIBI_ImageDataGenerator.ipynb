{
  "cells": [
    {
      "cell_type": "markdown",
      "metadata": {
        "id": "view-in-github",
        "colab_type": "text"
      },
      "source": [
        "<a href=\"https://colab.research.google.com/github/FajarKKP/ML-DL_related_project/blob/main/SIBI_ImageDataGenerator.ipynb\" target=\"_parent\"><img src=\"https://colab.research.google.com/assets/colab-badge.svg\" alt=\"Open In Colab\"/></a>"
      ]
    },
    {
      "cell_type": "code",
      "execution_count": 1,
      "metadata": {
        "id": "kobo4tW9bUqi"
      },
      "outputs": [],
      "source": [
        "import tensorflow as tf\n",
        "import keras\n",
        "import matplotlib.pyplot as plt\n",
        "import sklearn\n",
        "import numpy as np\n",
        "\n",
        "from tensorflow.keras import models\n",
        "from tensorflow.keras import layers\n",
        "from tensorflow.keras.preprocessing.image import ImageDataGenerator"
      ]
    },
    {
      "cell_type": "code",
      "execution_count": 2,
      "metadata": {
        "id": "OEqShO_sbeRx"
      },
      "outputs": [],
      "source": [
        "# Initialize batch size and image size\n",
        "batch_size = 32\n",
        "image_size = (224,224)\n"
      ]
    },
    {
      "cell_type": "code",
      "execution_count": 3,
      "metadata": {
        "id": "qOX_OLXgbgBL"
      },
      "outputs": [],
      "source": [
        "#For Augmentation\n",
        "train_datagen = ImageDataGenerator(\n",
        "                    horizontal_flip=True)\n",
        " \n",
        "test_datagen = ImageDataGenerator()"
      ]
    },
    {
      "cell_type": "code",
      "execution_count": 4,
      "metadata": {
        "colab": {
          "base_uri": "https://localhost:8080/"
        },
        "id": "c9YaPgugbrMh",
        "outputId": "ab6cb70d-8945-4954-9deb-7b6a89b1aa31"
      },
      "outputs": [
        {
          "output_type": "stream",
          "name": "stdout",
          "text": [
            "Found 9600 images belonging to 24 classes.\n",
            "Found 1200 images belonging to 24 classes.\n",
            "Found 1200 images belonging to 24 classes.\n"
          ]
        }
      ],
      "source": [
        "\n",
        "train_generator = train_datagen.flow_from_directory(\n",
        "        '/content/drive/MyDrive/testing_folder/train', \n",
        "        target_size=image_size, \n",
        "        batch_size=batch_size,\n",
        "        shuffle = True,\n",
        "        class_mode='sparse')\n",
        " \n",
        "val_generator = test_datagen.flow_from_directory(\n",
        "        '/content/drive/MyDrive/testing_folder/val', \n",
        "        target_size=image_size, \n",
        "        batch_size=batch_size,\n",
        "        # shuffle = True,\n",
        "        class_mode='sparse')\n",
        "\n",
        "test_generator = test_datagen.flow_from_directory(\n",
        "        '/content/drive/MyDrive/testing_folder/test', \n",
        "        target_size=image_size, \n",
        "        batch_size=batch_size,\n",
        "        class_mode='sparse')"
      ]
    },
    {
      "cell_type": "code",
      "execution_count": null,
      "metadata": {
        "id": "Y6WjWO-VcNEP"
      },
      "outputs": [],
      "source": [
        "# Import the EfficientNet model\n",
        "eff_model1 = tf.keras.applications.efficientnet.EfficientNetB0(include_top=False, input_shape=(224,224,3))\n",
        "print(type(eff_model1))\n",
        "eff_model1.summary()"
      ]
    },
    {
      "cell_type": "code",
      "execution_count": null,
      "metadata": {
        "id": "YuyC4bKacPCt"
      },
      "outputs": [],
      "source": [
        "# Set false to trainable, then set the dropout rate we will use for our model\n",
        "eff_model1.trainable = False\n",
        "dropout_rate = 0.1 #@param {type:\"slider\", min:0, max:1, step:0.1}"
      ]
    },
    {
      "cell_type": "code",
      "execution_count": null,
      "metadata": {
        "id": "ai4rHSrQcQ6M"
      },
      "outputs": [],
      "source": [
        "# Create a new model, combining the EfficientNet and new output layer with 24 output class\n",
        "\n",
        "model = models.Sequential()\n",
        "model.add(eff_model1)\n",
        "model.add(layers.GlobalMaxPooling2D(name=\"gap\"))\n",
        "# model.add(layers.Flatten(name=\"flatten\"))\n",
        "if dropout_rate > 0:\n",
        "    model.add(layers.Dropout(dropout_rate, name=\"dropout_out\"))\n",
        "\n",
        "model.add(layers.Dense(24, activation=\"softmax\", name=\"fc_out\"))\n",
        "\n",
        "model.summary()"
      ]
    },
    {
      "cell_type": "code",
      "execution_count": null,
      "metadata": {
        "id": "8i_akoUqcSb3"
      },
      "outputs": [],
      "source": [
        "# Train model\n",
        "epochs = 50\n",
        "class myCallback(tf.keras.callbacks.Callback):\n",
        "  def on_epoch_end(self, epochs, logs={}):\n",
        "    if(logs.get('accuracy')>0.98):\n",
        "      print(\"\\n Good enough, its above 98%\")\n",
        "      self.model.stop_training=True\n",
        "callbacks = myCallback()\n",
        "\n",
        "save_callback = keras.callbacks.ModelCheckpoint(\n",
        "    '/content/drive/MyDrive/Hasil_model_EfficientNet/callback_checkpoint',\n",
        "    monitor = 'accuracy',\n",
        "    save_best_only=True\n",
        ")\n",
        "# early_stopping = keras.callbacks.EarlyStopping(\n",
        "#     monitor=\"accuracy\",\n",
        "#     patience=5,\n",
        "  \n",
        "# )\n",
        "model.compile(\n",
        "    optimizer=tf.keras.optimizers.Adam(1e-3),\n",
        "    loss=\"sparse_categorical_crossentropy\", \n",
        "    metrics=['accuracy'],\n",
        ")\n",
        "final_model = model.fit(train_generator, epochs=epochs, callbacks=[callbacks, save_callback], validation_data=val_generator)"
      ]
    },
    {
      "cell_type": "code",
      "execution_count": null,
      "metadata": {
        "id": "PsrHa5_fcfPe"
      },
      "outputs": [],
      "source": [
        "# model.save('/content/drive/MyDrive/Hasil_model_EfficientNet/final_model_generator_fix.h5')"
      ]
    },
    {
      "cell_type": "code",
      "source": [
        "# final_model = keras.models.load_model(\"/content/drive/MyDrive/Hasil_model_EfficientNet/final_model_generator_fix.h5\")"
      ],
      "metadata": {
        "id": "Izhr5Eftj_7G"
      },
      "execution_count": null,
      "outputs": []
    },
    {
      "cell_type": "code",
      "execution_count": null,
      "metadata": {
        "id": "TTN8iRh3chag"
      },
      "outputs": [],
      "source": [
        "def plot_hist(final_model):\n",
        "    plt.plot(final_model.history[\"accuracy\"])\n",
        "    plt.plot(final_model.history[\"val_accuracy\"])\n",
        "    plt.title(\"model accuracy\")\n",
        "    plt.ylabel(\"accuracy\")\n",
        "    plt.xlabel(\"epoch\")\n",
        "    plt.legend([\"train\", \"validation\"], loc=\"upper left\")\n",
        "    plt.show()\n",
        "\n",
        "\n",
        "plot_hist(final_model)"
      ]
    },
    {
      "cell_type": "code",
      "execution_count": null,
      "metadata": {
        "id": "xJG2O6LPYsSi"
      },
      "outputs": [],
      "source": [
        "model.evaluate(test_generator)"
      ]
    }
  ],
  "metadata": {
    "colab": {
      "collapsed_sections": [],
      "name": "SIBI_ImageDataGenerator.ipynb",
      "provenance": [],
      "mount_file_id": "12-4JN0ZmIZHjKrxExgkxEEzo65DKdtu3",
      "authorship_tag": "ABX9TyOWC5oC1mVROuUznQX8fkl7",
      "include_colab_link": true
    },
    "gpuClass": "standard",
    "kernelspec": {
      "display_name": "Python 3",
      "name": "python3"
    },
    "language_info": {
      "name": "python"
    },
    "accelerator": "GPU"
  },
  "nbformat": 4,
  "nbformat_minor": 0
}